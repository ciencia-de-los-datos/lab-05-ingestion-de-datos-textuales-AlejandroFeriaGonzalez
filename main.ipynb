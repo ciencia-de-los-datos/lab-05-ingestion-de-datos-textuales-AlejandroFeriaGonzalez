{
 "cells": [
  {
   "cell_type": "code",
   "execution_count": 1,
   "metadata": {},
   "outputs": [],
   "source": [
    "import pandas as pd\n",
    "import numpy as np\n",
    "from pathlib import Path"
   ]
  },
  {
   "cell_type": "code",
   "execution_count": 17,
   "metadata": {},
   "outputs": [
    {
     "name": "stdout",
     "output_type": "stream",
     "text": [
      "data\\test\n",
      "\t data\\test\\negative\n",
      "\t data\\test\\neutral\n",
      "\t data\\test\\positive\n",
      "data\\train\n",
      "\t data\\train\\negative\n",
      "\t data\\train\\neutral\n",
      "\t data\\train\\positive\n"
     ]
    }
   ],
   "source": [
    "carpeta_data = Path(\"./data\")\n",
    "test = []\n",
    "train = []\n",
    "for carpeta in carpeta_data.iterdir():\n",
    "    if carpeta.name == \"__MACOSX\":\n",
    "        continue\n",
    "\n",
    "    print(carpeta)\n",
    "    for estado in carpeta.iterdir():\n",
    "        if estado.name == \".DS_Store\":\n",
    "            continue\n",
    "\n",
    "        print(\"\\t\", estado)\n",
    "        for archivo in estado.glob(\"*.txt\"):\n",
    "            frase = archivo.read_text()\n",
    "            sentimiento = estado.name\n",
    "            if carpeta.name == \"test\":\n",
    "                test.append((frase, sentimiento))\n",
    "\n",
    "            if carpeta.name == \"train\":\n",
    "                train.append((frase, sentimiento))"
   ]
  },
  {
   "cell_type": "code",
   "execution_count": 13,
   "metadata": {},
   "outputs": [
    {
     "data": {
      "text/plain": [
       "[('test', 'negative', WindowsPath('data/test/negative/0000.txt')),\n",
       " ('test', 'negative', WindowsPath('data/test/negative/0001.txt')),\n",
       " ('test', 'negative', WindowsPath('data/test/negative/0002.txt'))]"
      ]
     },
     "execution_count": 13,
     "metadata": {},
     "output_type": "execute_result"
    }
   ],
   "source": [
    "test[:3]"
   ]
  },
  {
   "cell_type": "code",
   "execution_count": 12,
   "metadata": {},
   "outputs": [
    {
     "data": {
      "text/plain": [
       "'Jan. 6 -- Ford is struggling in the face of slowing truck and SUV sales and a surfeit of up-to-date , gotta-have cars '"
      ]
     },
     "execution_count": 12,
     "metadata": {},
     "output_type": "execute_result"
    }
   ],
   "source": [
    "test[0][2].read_text()"
   ]
  },
  {
   "cell_type": "code",
   "execution_count": 21,
   "metadata": {},
   "outputs": [],
   "source": [
    "test_df = pd.DataFrame(test, columns=[\"phrase\", \"sentiment\"])\n",
    "train_df = pd.DataFrame(train, columns=[\"phrase\", \"sentiment\"])"
   ]
  },
  {
   "cell_type": "code",
   "execution_count": 24,
   "metadata": {},
   "outputs": [],
   "source": [
    "train_df.to_csv(\"train_dataset.csv\", index=False)\n",
    "test_df.to_csv(\"test_dataset.csv\", index=False)"
   ]
  }
 ],
 "metadata": {
  "kernelspec": {
   "display_name": "Python 3",
   "language": "python",
   "name": "python3"
  },
  "language_info": {
   "codemirror_mode": {
    "name": "ipython",
    "version": 3
   },
   "file_extension": ".py",
   "mimetype": "text/x-python",
   "name": "python",
   "nbconvert_exporter": "python",
   "pygments_lexer": "ipython3",
   "version": "3.12.2"
  }
 },
 "nbformat": 4,
 "nbformat_minor": 2
}
